{
 "cells": [
  {
   "cell_type": "code",
   "execution_count": 1,
   "metadata": {
    "vscode": {
     "languageId": "r"
    }
   },
   "outputs": [
    {
     "name": "stdout",
     "output_type": "stream",
     "text": [
      "\n",
      "Note: you may need to restart the kernel to use updated packages.\n"
     ]
    },
    {
     "name": "stderr",
     "output_type": "stream",
     "text": [
      "Traceback (most recent call last):\n",
      "  File \"C:\\Users\\marti\\anaconda3\\Scripts\\conda-script.py\", line 11, in <module>\n",
      "    from conda.cli import main\n",
      "ModuleNotFoundError: No module named 'conda'\n"
     ]
    }
   ],
   "source": [
    "conda install -c conda-forge r-irkernel\n"
   ]
  },
  {
   "cell_type": "code",
   "execution_count": 8,
   "metadata": {
    "vscode": {
     "languageId": "r"
    }
   },
   "outputs": [
    {
     "name": "stdout",
     "output_type": "stream",
     "text": [
      "\n",
      "  There is a binary version available but the source version is later:\n",
      "           binary source needs_compilation\n",
      "data.table 1.14.0 1.14.8              TRUE\n",
      "\n",
      "  Binaries will be installed\n",
      "package 'data.table' successfully unpacked and MD5 sums checked\n",
      "\n",
      "The downloaded binary packages are in\n",
      "\tC:\\Users\\marti\\AppData\\Local\\Temp\\RtmpAreh6u\\downloaded_packages\n"
     ]
    }
   ],
   "source": [
    "#install datatable \n",
    "install.packages(\"data.table\")\n"
   ]
  },
  {
   "cell_type": "code",
   "execution_count": 9,
   "metadata": {
    "vscode": {
     "languageId": "r"
    }
   },
   "outputs": [
    {
     "data": {
      "text/html": [
       "<table>\n",
       "<thead><tr><th></th><th scope=col>used</th><th scope=col>(Mb)</th><th scope=col>gc trigger</th><th scope=col>(Mb)</th><th scope=col>max used</th><th scope=col>(Mb)</th></tr></thead>\n",
       "<tbody>\n",
       "\t<tr><th scope=row>Ncells</th><td> 548179</td><td>29.3   </td><td>1143472</td><td>61.1   </td><td>1143472</td><td>61.1   </td></tr>\n",
       "\t<tr><th scope=row>Vcells</th><td>1093396</td><td> 8.4   </td><td>8388608</td><td>64.0   </td><td>6668862</td><td>50.9   </td></tr>\n",
       "</tbody>\n",
       "</table>\n"
      ],
      "text/latex": [
       "\\begin{tabular}{r|llllll}\n",
       "  & used & (Mb) & gc trigger & (Mb) & max used & (Mb)\\\\\n",
       "\\hline\n",
       "\tNcells &  548179 & 29.3    & 1143472 & 61.1    & 1143472 & 61.1   \\\\\n",
       "\tVcells & 1093396 &  8.4    & 8388608 & 64.0    & 6668862 & 50.9   \\\\\n",
       "\\end{tabular}\n"
      ],
      "text/markdown": [
       "\n",
       "| <!--/--> | used | (Mb) | gc trigger | (Mb) | max used | (Mb) |\n",
       "|---|---|---|---|---|---|---|\n",
       "| Ncells |  548179 | 29.3    | 1143472 | 61.1    | 1143472 | 61.1    |\n",
       "| Vcells | 1093396 |  8.4    | 8388608 | 64.0    | 6668862 | 50.9    |\n",
       "\n"
      ],
      "text/plain": [
       "       used    (Mb) gc trigger (Mb) max used (Mb)\n",
       "Ncells  548179 29.3 1143472    61.1 1143472  61.1\n",
       "Vcells 1093396  8.4 8388608    64.0 6668862  50.9"
      ]
     },
     "metadata": {},
     "output_type": "display_data"
    },
    {
     "name": "stderr",
     "output_type": "stream",
     "text": [
      "Loading required package: data.table\n",
      "Warning message:\n",
      "\"package 'data.table' was built under R version 3.6.3\""
     ]
    }
   ],
   "source": [
    "rm(list = ls()) # Borro todos los objetos\n",
    "gc() # Garbage Collection\n",
    "\n",
    "require(\"data.table\")\n",
    "require(\"rpart\")\n",
    "require(\"parallel\")\n"
   ]
  },
  {
   "cell_type": "code",
   "execution_count": 10,
   "metadata": {
    "vscode": {
     "languageId": "r"
    }
   },
   "outputs": [],
   "source": [
    "# esqueleto de grid search\n",
    "# se espera que los alumnos completen lo que falta\n",
    "#   para recorrer TODOS cuatro los hiperparametros\n",
    "\n",
    "\n",
    "PARAM <- list()\n",
    "# reemplazar por las propias semillas\n",
    "semillas <- c(100019,100043,100049,100057,100069)\n",
    "\n",
    "#------------------------------------------------------------------------------\n",
    "# particionar agrega una columna llamada fold a un dataset\n",
    "#  que consiste en una particion estratificada segun agrupa\n",
    "# particionar( data=dataset, division=c(70,30), agrupa=clase_ternaria, seed=semilla)\n",
    "#   crea una particion 70, 30\n",
    "\n",
    "particionar <- function(data, division, agrupa = \"\", campo = \"fold\", start = 1, seed = NA) {\n",
    "  if (!is.na(seed)) set.seed(seed)\n",
    "\n",
    "  bloque <- unlist(mapply(function(x, y) {\n",
    "    rep(y, x)\n",
    "  }, division, seq(from = start, length.out = length(division))))\n",
    "\n",
    "  data[, (campo) := sample(rep(bloque, ceiling(.N / length(bloque))))[1:.N],\n",
    "    by = agrupa\n",
    "  ]\n",
    "}\n",
    "#------------------------------------------------------------------------------\n",
    "\n",
    "ArbolEstimarGanancia <- function(semilla, param_basicos) {\n",
    "  # particiono estratificadamente el dataset\n",
    "  particionar(dataset, division = c(7, 3), agrupa = \"clase_ternaria\", seed = semilla)\n",
    "\n",
    "  # genero el modelo\n",
    "  # quiero predecir clase_ternaria a partir del resto\n",
    "  modelo <- rpart(\"clase_ternaria ~ .\",\n",
    "    data = dataset[fold == 1], # fold==1  es training,  el 70% de los datos\n",
    "    xval = 0,\n",
    "    control = param_basicos\n",
    "  ) # aqui van los parametros del arbol\n",
    "\n",
    "  # aplico el modelo a los datos de testing\n",
    "  prediccion <- predict(modelo, # el modelo que genere recien\n",
    "    dataset[fold == 2], # fold==2  es testing, el 30% de los datos\n",
    "    type = \"prob\"\n",
    "  ) # type= \"prob\"  es que devuelva la probabilidad\n",
    "\n",
    "  # prediccion es una matriz con TRES columnas,\n",
    "  #  llamadas \"BAJA+1\", \"BAJA+2\"  y \"CONTINUA\"\n",
    "  # cada columna es el vector de probabilidades\n",
    "\n",
    "\n",
    "  # calculo la ganancia en testing  qu es fold==2\n",
    "  ganancia_test <- dataset[\n",
    "    fold == 2,\n",
    "    sum(ifelse(prediccion[, \"BAJA+2\"] > 0.025,\n",
    "      ifelse(clase_ternaria == \"BAJA+2\", 117000, -3000),\n",
    "      0\n",
    "    ))\n",
    "  ]\n",
    "\n",
    "  # escalo la ganancia como si fuera todo el dataset\n",
    "  ganancia_test_normalizada <- ganancia_test / 0.3\n",
    "\n",
    "  return(ganancia_test_normalizada)\n",
    "}\n",
    "#------------------------------------------------------------------------------\n",
    "\n",
    "ArbolesMontecarlo <- function(semillas, param_basicos) {\n",
    "  # la funcion mcmapply  llama a la funcion ArbolEstimarGanancia\n",
    "  #  tantas veces como valores tenga el vector  ksemillas\n",
    "  ganancias <- mcmapply(ArbolEstimarGanancia,\n",
    "    semillas, # paso el vector de semillas\n",
    "    MoreArgs = list(param_basicos), # aqui paso el segundo parametro\n",
    "    SIMPLIFY = FALSE,\n",
    "    mc.cores = 1\n",
    "  ) # se puede subir a 5 si posee Linux o Mac OS\n",
    "\n",
    "  ganancia_promedio <- mean(unlist(ganancias))\n",
    "\n",
    "  return(ganancia_promedio)\n",
    "}\n",
    "#------------------------------------------------------------------------------\n",
    "#------------------------------------------------------------------------------\n",
    "\n",
    "# Aqui se debe poner la carpeta de la computadora local\n",
    "#setwd(\"~/buckets/b1/\") # Establezco el Working Directory\n",
    "# cargo los datos\n"
   ]
  },
  {
   "cell_type": "code",
   "execution_count": 11,
   "metadata": {
    "vscode": {
     "languageId": "r"
    }
   },
   "outputs": [],
   "source": [
    "file_path <- normalizePath(\"C:/Users/marti/oneDrive/Documentos/Data Science Maestria/laboratorio/labo2023ba/datasets_dataset_pequeno.csv\")\n",
    "dataset <- fread(file_path)\n",
    "\n",
    "# trabajo solo con los datos con clase, es decir 202107\n",
    "dataset <- dataset[clase_ternaria != \"\"]\n",
    "\n",
    "\n",
    "# genero el archivo para Kaggle\n",
    "# creo la carpeta donde va el experimento\n",
    "# HT  representa  Hiperparameter Tuning\n",
    "dir.create(\"./exp/\", showWarnings = FALSE)\n",
    "dir.create(\"./exp/HT2020/\", showWarnings = FALSE)\n",
    "archivo_salida <- \"./exp/HT2020/gridsearch.txt\"\n",
    "\n",
    "# Escribo los titulos al archivo donde van a quedar los resultados\n",
    "# atencion que si ya existe el archivo, esta instruccion LO SOBREESCRIBE,\n",
    "#  y lo que estaba antes se pierde\n",
    "# la forma que no suceda lo anterior es con append=TRUE\n",
    "cat(\n",
    "  file = archivo_salida,\n",
    "  sep = \"\",\n",
    "  \"cp\", \"\\t\",\n",
    "  \"max_depth\", \"\\t\",\n",
    "  \"min_split\", \"\\t\",\n",
    "  \"min_bucket\", \"\\t\",\n",
    "  \"ganancia_promedio\", \"\\n\"\n",
    ")\n"
   ]
  },
  {
   "cell_type": "code",
   "execution_count": 12,
   "metadata": {
    "vscode": {
     "languageId": "r"
    }
   },
   "outputs": [],
   "source": [
    "for (vmax_depth in c(4, 6, 8, 10, 12, 14, 16)) {\n",
    "  for (vmin_split in c(1000, 800, 600, 400, 200, 100)) {\n",
    "    for (cp in c(0.3, 0.5, 0.7)) {\n",
    "      for (minbucket in c(5, 3, 1)) {\n",
    "        # notar como se agrega\n",
    "        \n",
    "        # vminsplit  minima cantidad de registros en un nodo para hacer el split\n",
    "        param_basicos <- list(\n",
    "          \"cp\" = cp, # complejidad minima\n",
    "          \"maxdepth\" = vmax_depth,\n",
    "          \"minsplit\" = vmin_split,\n",
    "          \"minbucket\" = minbucket # minima cantidad de registros en una hoja\n",
    "        )\n",
    "        \n",
    "        # profundidad máxima del arbol\n",
    "        # Un solo llamado, con la semilla 17\n",
    "        ganancia_promedio <- ArbolesMontecarlo(semillas, param_basicos)\n",
    "        \n",
    "        # escribo los resultados al archivo de salida\n",
    "        cat(\n",
    "          file = archivo_salida,\n",
    "          append = TRUE,\n",
    "          sep = \"\",\n",
    "          cp, \"\\t\",\n",
    "          vmax_depth, \"\\t\",\n",
    "          vmin_split, \"\\t\",\n",
    "          minbucket, \"\\t\",\n",
    "          ganancia_promedio, \"\\n\"\n",
    "        )\n",
    "      }\n",
    "    }\n",
    "  }\n",
    "}\n"
   ]
  }
 ],
 "metadata": {
  "kernelspec": {
   "display_name": "R",
   "language": "R",
   "name": "ir"
  },
  "language_info": {
   "codemirror_mode": "r",
   "file_extension": ".r",
   "mimetype": "text/x-r-source",
   "name": "R",
   "pygments_lexer": "r",
   "version": "3.6.1"
  },
  "orig_nbformat": 4
 },
 "nbformat": 4,
 "nbformat_minor": 2
}
