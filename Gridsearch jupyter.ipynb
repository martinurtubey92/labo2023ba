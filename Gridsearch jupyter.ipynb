{
 "cells": [
  {
   "cell_type": "code",
   "execution_count": 1,
   "metadata": {
    "vscode": {
     "languageId": "r"
    }
   },
   "outputs": [
    {
     "name": "stdout",
     "output_type": "stream",
     "text": [
      "\n",
      "Note: you may need to restart the kernel to use updated packages.\n"
     ]
    },
    {
     "name": "stderr",
     "output_type": "stream",
     "text": [
      "Traceback (most recent call last):\n",
      "  File \"C:\\Users\\marti\\anaconda3\\Scripts\\conda-script.py\", line 11, in <module>\n",
      "    from conda.cli import main\n",
      "ModuleNotFoundError: No module named 'conda'\n"
     ]
    }
   ],
   "source": [
    "conda install -c conda-forge r-irkernel\n"
   ]
  },
  {
   "cell_type": "code",
   "execution_count": 8,
   "metadata": {
    "vscode": {
     "languageId": "r"
    }
   },
   "outputs": [
    {
     "name": "stdout",
     "output_type": "stream",
     "text": [
      "\n",
      "  There is a binary version available but the source version is later:\n",
      "           binary source needs_compilation\n",
      "data.table 1.14.0 1.14.8              TRUE\n",
      "\n",
      "  Binaries will be installed\n",
      "package 'data.table' successfully unpacked and MD5 sums checked\n",
      "\n",
      "The downloaded binary packages are in\n",
      "\tC:\\Users\\marti\\AppData\\Local\\Temp\\RtmpAreh6u\\downloaded_packages\n"
     ]
    }
   ],
   "source": [
    "#install datatable \n",
    "install.packages(\"data.table\")\n"
   ]
  },
  {
   "cell_type": "code",
   "execution_count": 1,
   "metadata": {
    "vscode": {
     "languageId": "r"
    }
   },
   "outputs": [
    {
     "data": {
      "text/html": [
       "<table>\n",
       "<thead><tr><th></th><th scope=col>used</th><th scope=col>(Mb)</th><th scope=col>gc trigger</th><th scope=col>(Mb)</th><th scope=col>max used</th><th scope=col>(Mb)</th></tr></thead>\n",
       "<tbody>\n",
       "\t<tr><th scope=row>Ncells</th><td>507947 </td><td>27.2   </td><td>1140321</td><td>60.9   </td><td> 621911</td><td>33.3   </td></tr>\n",
       "\t<tr><th scope=row>Vcells</th><td>937717 </td><td> 7.2   </td><td>8388608</td><td>64.0   </td><td>1602022</td><td>12.3   </td></tr>\n",
       "</tbody>\n",
       "</table>\n"
      ],
      "text/latex": [
       "\\begin{tabular}{r|llllll}\n",
       "  & used & (Mb) & gc trigger & (Mb) & max used & (Mb)\\\\\n",
       "\\hline\n",
       "\tNcells & 507947  & 27.2    & 1140321 & 60.9    &  621911 & 33.3   \\\\\n",
       "\tVcells & 937717  &  7.2    & 8388608 & 64.0    & 1602022 & 12.3   \\\\\n",
       "\\end{tabular}\n"
      ],
      "text/markdown": [
       "\n",
       "| <!--/--> | used | (Mb) | gc trigger | (Mb) | max used | (Mb) |\n",
       "|---|---|---|---|---|---|---|\n",
       "| Ncells | 507947  | 27.2    | 1140321 | 60.9    |  621911 | 33.3    |\n",
       "| Vcells | 937717  |  7.2    | 8388608 | 64.0    | 1602022 | 12.3    |\n",
       "\n"
      ],
      "text/plain": [
       "       used   (Mb) gc trigger (Mb) max used (Mb)\n",
       "Ncells 507947 27.2 1140321    60.9  621911  33.3\n",
       "Vcells 937717  7.2 8388608    64.0 1602022  12.3"
      ]
     },
     "metadata": {},
     "output_type": "display_data"
    },
    {
     "name": "stderr",
     "output_type": "stream",
     "text": [
      "Loading required package: data.table\n",
      "Warning message:\n",
      "\"package 'data.table' was built under R version 3.6.3\"Loading required package: rpart\n",
      "Loading required package: parallel\n"
     ]
    }
   ],
   "source": [
    "rm(list = ls()) # Borro todos los objetos\n",
    "gc() # Garbage Collection\n",
    "\n",
    "require(\"data.table\")\n",
    "require(\"rpart\")\n",
    "require(\"parallel\")\n"
   ]
  },
  {
   "cell_type": "code",
   "execution_count": 2,
   "metadata": {
    "vscode": {
     "languageId": "r"
    }
   },
   "outputs": [],
   "source": [
    "# esqueleto de grid search\n",
    "# se espera que los alumnos completen lo que falta\n",
    "#   para recorrer TODOS cuatro los hiperparametros\n",
    "\n",
    "\n",
    "PARAM <- list()\n",
    "# reemplazar por las propias semillas\n",
    "semillas <- c(100019,100043,100049,100057,100069)\n",
    "\n",
    "#------------------------------------------------------------------------------\n",
    "# particionar agrega una columna llamada fold a un dataset\n",
    "#  que consiste en una particion estratificada segun agrupa\n",
    "# particionar( data=dataset, division=c(70,30), agrupa=clase_ternaria, seed=semilla)\n",
    "#   crea una particion 70, 30\n",
    "\n",
    "particionar <- function(data, division, agrupa = \"\", campo = \"fold\", start = 1, seed = NA) {\n",
    "  if (!is.na(seed)) set.seed(seed)\n",
    "\n",
    "  bloque <- unlist(mapply(function(x, y) {\n",
    "    rep(y, x)\n",
    "  }, division, seq(from = start, length.out = length(division))))\n",
    "\n",
    "  data[, (campo) := sample(rep(bloque, ceiling(.N / length(bloque))))[1:.N],\n",
    "    by = agrupa\n",
    "  ]\n",
    "}\n",
    "#------------------------------------------------------------------------------\n",
    "\n",
    "ArbolEstimarGanancia <- function(semilla, param_basicos) {\n",
    "  # particiono estratificadamente el dataset\n",
    "  particionar(dataset, division = c(7, 3), agrupa = \"clase_ternaria\", seed = semilla)\n",
    "\n",
    "  # genero el modelo\n",
    "  # quiero predecir clase_ternaria a partir del resto\n",
    "  modelo <- rpart(\"clase_ternaria ~ .\",\n",
    "    data = dataset[fold == 1], # fold==1  es training,  el 70% de los datos\n",
    "    xval = 0,\n",
    "    control = param_basicos\n",
    "  ) # aqui van los parametros del arbol\n",
    "\n",
    "  # aplico el modelo a los datos de testing\n",
    "  prediccion <- predict(modelo, # el modelo que genere recien\n",
    "    dataset[fold == 2], # fold==2  es testing, el 30% de los datos\n",
    "    type = \"prob\"\n",
    "  ) # type= \"prob\"  es que devuelva la probabilidad\n",
    "\n",
    "  # prediccion es una matriz con TRES columnas,\n",
    "  #  llamadas \"BAJA+1\", \"BAJA+2\"  y \"CONTINUA\"\n",
    "  # cada columna es el vector de probabilidades\n",
    "\n",
    "\n",
    "  # calculo la ganancia en testing  qu es fold==2\n",
    "  ganancia_test <- dataset[\n",
    "    fold == 2,\n",
    "    sum(ifelse(prediccion[, \"BAJA+2\"] > 0.025,\n",
    "      ifelse(clase_ternaria == \"BAJA+2\", 117000, -3000),\n",
    "      0\n",
    "    ))\n",
    "  ]\n",
    "\n",
    "  # escalo la ganancia como si fuera todo el dataset\n",
    "  ganancia_test_normalizada <- ganancia_test / 0.3\n",
    "\n",
    "  return(ganancia_test_normalizada)\n",
    "}\n",
    "#------------------------------------------------------------------------------\n",
    "\n",
    "ArbolesMontecarlo <- function(semillas, param_basicos) {\n",
    "  # la funcion mcmapply  llama a la funcion ArbolEstimarGanancia\n",
    "  #  tantas veces como valores tenga el vector  ksemillas\n",
    "  ganancias <- mcmapply(ArbolEstimarGanancia,\n",
    "    semillas, # paso el vector de semillas\n",
    "    MoreArgs = list(param_basicos), # aqui paso el segundo parametro\n",
    "    SIMPLIFY = FALSE,\n",
    "    mc.cores = 1\n",
    "  ) # se puede subir a 5 si posee Linux o Mac OS\n",
    "\n",
    "  ganancia_promedio <- mean(unlist(ganancias))\n",
    "\n",
    "  return(ganancia_promedio)\n",
    "}\n",
    "#------------------------------------------------------------------------------\n",
    "#------------------------------------------------------------------------------\n",
    "\n",
    "# Aqui se debe poner la carpeta de la computadora local\n",
    "#setwd(\"~/buckets/b1/\") # Establezco el Working Directory\n",
    "# cargo los datos\n"
   ]
  },
  {
   "cell_type": "code",
   "execution_count": 3,
   "metadata": {
    "vscode": {
     "languageId": "r"
    }
   },
   "outputs": [],
   "source": [
    "file_path <- normalizePath(\"C:/Users/marti/oneDrive/Documentos/Data Science Maestria/laboratorio/labo2023ba/datasets_dataset_pequeno.csv\")\n",
    "dataset <- fread(file_path)\n",
    "\n",
    "# trabajo solo con los datos con clase, es decir 202107\n",
    "dataset <- dataset[clase_ternaria != \"\"]\n",
    "\n",
    "\n",
    "# genero el archivo para Kaggle\n",
    "# creo la carpeta donde va el experimento\n",
    "# HT  representa  Hiperparameter Tuning\n",
    "dir.create(\"./exp/\", showWarnings = FALSE)\n",
    "dir.create(\"./exp/HT2020/\", showWarnings = FALSE)\n",
    "archivo_salida <- \"./exp/HT2020/gridsearch.txt\"\n",
    "\n",
    "# Escribo los titulos al archivo donde van a quedar los resultados\n",
    "# atencion que si ya existe el archivo, esta instruccion LO SOBREESCRIBE,\n",
    "#  y lo que estaba antes se pierde\n",
    "# la forma que no suceda lo anterior es con append=TRUE\n",
    "cat(\n",
    "  file = archivo_salida,\n",
    "  sep = \"\",\n",
    "  \"cp\", \"\\t\",\n",
    "  \"max_depth\", \"\\t\",\n",
    "  \"min_split\", \"\\t\",\n",
    "  \"min_bucket\", \"\\t\",\n",
    "  \"ganancia_promedio\", \"\\n\"\n",
    ")\n"
   ]
  },
  {
   "cell_type": "code",
   "execution_count": 4,
   "metadata": {
    "vscode": {
     "languageId": "r"
    }
   },
   "outputs": [
    {
     "data": {
      "text/html": [
       "<table>\n",
       "<thead><tr><th scope=col>numero_de_cliente</th><th scope=col>foto_mes</th><th scope=col>active_quarter</th><th scope=col>cliente_vip</th><th scope=col>internet</th><th scope=col>cliente_edad</th><th scope=col>cliente_antiguedad</th><th scope=col>mrentabilidad</th><th scope=col>mrentabilidad_annual</th><th scope=col>mcomisiones</th><th scope=col>...</th><th scope=col>Visa_fultimo_cierre</th><th scope=col>Visa_mpagado</th><th scope=col>Visa_mpagospesos</th><th scope=col>Visa_mpagosdolares</th><th scope=col>Visa_fechaalta</th><th scope=col>Visa_mconsumototal</th><th scope=col>Visa_cconsumos</th><th scope=col>Visa_cadelantosefectivo</th><th scope=col>Visa_mpagominimo</th><th scope=col>clase_ternaria</th></tr></thead>\n",
       "<tbody>\n",
       "\t<tr><td>31116053  </td><td>202107    </td><td>1         </td><td>0         </td><td>0         </td><td>50        </td><td>201       </td><td>13073.36  </td><td>161035.99 </td><td>3163.52   </td><td>...       </td><td>10        </td><td>     0.00 </td><td> -82110.00</td><td> 0.00     </td><td>6060      </td><td>121585.39 </td><td>75        </td><td>0         </td><td>77617.41  </td><td>CONTINUA  </td></tr>\n",
       "\t<tr><td>31116803  </td><td>202107    </td><td>1         </td><td>0         </td><td>0         </td><td>59        </td><td>326       </td><td> 2640.48  </td><td> 56751.51 </td><td>5232.22   </td><td>...       </td><td> 3        </td><td>     0.00 </td><td> -85347.94</td><td>17.59     </td><td>4211      </td><td> 21596.40 </td><td> 7        </td><td>0         </td><td> 4938.33  </td><td>CONTINUA  </td></tr>\n",
       "\t<tr><td>31117730  </td><td>202107    </td><td>1         </td><td>0         </td><td>0         </td><td>68        </td><td>272       </td><td> 1343.51  </td><td> 20201.31 </td><td> 582.94   </td><td>...       </td><td>24        </td><td>  4692.00 </td><td>  -4692.00</td><td> 0.00     </td><td>7951      </td><td>  1529.02 </td><td> 2        </td><td>0         </td><td> 1407.60  </td><td>CONTINUA  </td></tr>\n",
       "\t<tr><td>31117908  </td><td>202107    </td><td>1         </td><td>0         </td><td>0         </td><td>80        </td><td>326       </td><td> 5523.19  </td><td> 55827.28 </td><td>2712.26   </td><td>...       </td><td> 3        </td><td>     0.00 </td><td> -26420.00</td><td> 0.00     </td><td>7702      </td><td> 12815.99 </td><td> 8        </td><td>0         </td><td>  856.29  </td><td>CONTINUA  </td></tr>\n",
       "\t<tr><td>31117977  </td><td>202107    </td><td>1         </td><td>0         </td><td>0         </td><td>60        </td><td>261       </td><td> 4819.35  </td><td> 37386.40 </td><td>1878.40   </td><td>...       </td><td>24        </td><td>174063.72 </td><td>-160642.13</td><td>12.89     </td><td>7949      </td><td>157186.12 </td><td>27        </td><td>0         </td><td> 9548.22  </td><td>CONTINUA  </td></tr>\n",
       "\t<tr><td>31120119  </td><td>202107    </td><td>1         </td><td>0         </td><td>0         </td><td>71        </td><td>379       </td><td> 1374.50  </td><td> 55964.94 </td><td>1561.94   </td><td>...       </td><td>10        </td><td>     0.00 </td><td> -10424.07</td><td> 0.00     </td><td>8508      </td><td>  9831.19 </td><td> 2        </td><td>0         </td><td>  656.88  </td><td>CONTINUA  </td></tr>\n",
       "\t<tr><td>31121017  </td><td>202107    </td><td>1         </td><td>0         </td><td>0         </td><td>67        </td><td>326       </td><td> 2579.35  </td><td> 18260.09 </td><td>1958.62   </td><td>...       </td><td> 3        </td><td>     0.00 </td><td>  -4048.02</td><td> 0.00     </td><td>8739      </td><td>  3988.20 </td><td> 3        </td><td>0         </td><td>  211.14  </td><td>CONTINUA  </td></tr>\n",
       "\t<tr><td>31121264  </td><td>202107    </td><td>1         </td><td>0         </td><td>0         </td><td>46        </td><td>311       </td><td>-1451.10  </td><td> -5036.02 </td><td>2348.34   </td><td>...       </td><td>10        </td><td> 30480.40 </td><td>-140760.00</td><td> 0.00     </td><td>8480      </td><td> 62938.18 </td><td>49        </td><td>0         </td><td>14193.30  </td><td>CONTINUA  </td></tr>\n",
       "\t<tr><td>31121718  </td><td>202107    </td><td>1         </td><td>0         </td><td>0         </td><td>66        </td><td>326       </td><td>37560.90  </td><td>478240.90 </td><td>2827.01   </td><td>...       </td><td>10        </td><td>  3873.57 </td><td>  -3075.19</td><td> 0.00     </td><td>8416      </td><td>  3761.81 </td><td> 1        </td><td>0         </td><td>  258.06  </td><td>CONTINUA  </td></tr>\n",
       "\t<tr><td>31122951  </td><td>202107    </td><td>1         </td><td>0         </td><td>0         </td><td>59        </td><td>270       </td><td> 4119.31  </td><td> 60639.40 </td><td>1959.26   </td><td>...       </td><td> 3        </td><td>     0.00 </td><td> -78615.19</td><td> 0.00     </td><td>4629      </td><td> 92695.38 </td><td>29        </td><td>0         </td><td> 9876.66  </td><td>CONTINUA  </td></tr>\n",
       "</tbody>\n",
       "</table>\n"
      ],
      "text/latex": [
       "\\begin{tabular}{r|lllllllllllllllllllllllllllllllllllllllllllllllllllllllllllllllllllllllllllllllllllllllllllllllllllllllllllllllllllllllllllllllllllllllllllllllllllllllllll}\n",
       " numero\\_de\\_cliente & foto\\_mes & active\\_quarter & cliente\\_vip & internet & cliente\\_edad & cliente\\_antiguedad & mrentabilidad & mrentabilidad\\_annual & mcomisiones & ... & Visa\\_fultimo\\_cierre & Visa\\_mpagado & Visa\\_mpagospesos & Visa\\_mpagosdolares & Visa\\_fechaalta & Visa\\_mconsumototal & Visa\\_cconsumos & Visa\\_cadelantosefectivo & Visa\\_mpagominimo & clase\\_ternaria\\\\\n",
       "\\hline\n",
       "\t 31116053   & 202107     & 1          & 0          & 0          & 50         & 201        & 13073.36   & 161035.99  & 3163.52    & ...        & 10         &      0.00  &  -82110.00 &  0.00      & 6060       & 121585.39  & 75         & 0          & 77617.41   & CONTINUA  \\\\\n",
       "\t 31116803   & 202107     & 1          & 0          & 0          & 59         & 326        &  2640.48   &  56751.51  & 5232.22    & ...        &  3         &      0.00  &  -85347.94 & 17.59      & 4211       &  21596.40  &  7         & 0          &  4938.33   & CONTINUA  \\\\\n",
       "\t 31117730   & 202107     & 1          & 0          & 0          & 68         & 272        &  1343.51   &  20201.31  &  582.94    & ...        & 24         &   4692.00  &   -4692.00 &  0.00      & 7951       &   1529.02  &  2         & 0          &  1407.60   & CONTINUA  \\\\\n",
       "\t 31117908   & 202107     & 1          & 0          & 0          & 80         & 326        &  5523.19   &  55827.28  & 2712.26    & ...        &  3         &      0.00  &  -26420.00 &  0.00      & 7702       &  12815.99  &  8         & 0          &   856.29   & CONTINUA  \\\\\n",
       "\t 31117977   & 202107     & 1          & 0          & 0          & 60         & 261        &  4819.35   &  37386.40  & 1878.40    & ...        & 24         & 174063.72  & -160642.13 & 12.89      & 7949       & 157186.12  & 27         & 0          &  9548.22   & CONTINUA  \\\\\n",
       "\t 31120119   & 202107     & 1          & 0          & 0          & 71         & 379        &  1374.50   &  55964.94  & 1561.94    & ...        & 10         &      0.00  &  -10424.07 &  0.00      & 8508       &   9831.19  &  2         & 0          &   656.88   & CONTINUA  \\\\\n",
       "\t 31121017   & 202107     & 1          & 0          & 0          & 67         & 326        &  2579.35   &  18260.09  & 1958.62    & ...        &  3         &      0.00  &   -4048.02 &  0.00      & 8739       &   3988.20  &  3         & 0          &   211.14   & CONTINUA  \\\\\n",
       "\t 31121264   & 202107     & 1          & 0          & 0          & 46         & 311        & -1451.10   &  -5036.02  & 2348.34    & ...        & 10         &  30480.40  & -140760.00 &  0.00      & 8480       &  62938.18  & 49         & 0          & 14193.30   & CONTINUA  \\\\\n",
       "\t 31121718   & 202107     & 1          & 0          & 0          & 66         & 326        & 37560.90   & 478240.90  & 2827.01    & ...        & 10         &   3873.57  &   -3075.19 &  0.00      & 8416       &   3761.81  &  1         & 0          &   258.06   & CONTINUA  \\\\\n",
       "\t 31122951   & 202107     & 1          & 0          & 0          & 59         & 270        &  4119.31   &  60639.40  & 1959.26    & ...        &  3         &      0.00  &  -78615.19 &  0.00      & 4629       &  92695.38  & 29         & 0          &  9876.66   & CONTINUA  \\\\\n",
       "\\end{tabular}\n"
      ],
      "text/markdown": [
       "\n",
       "| numero_de_cliente | foto_mes | active_quarter | cliente_vip | internet | cliente_edad | cliente_antiguedad | mrentabilidad | mrentabilidad_annual | mcomisiones | ... | Visa_fultimo_cierre | Visa_mpagado | Visa_mpagospesos | Visa_mpagosdolares | Visa_fechaalta | Visa_mconsumototal | Visa_cconsumos | Visa_cadelantosefectivo | Visa_mpagominimo | clase_ternaria |\n",
       "|---|---|---|---|---|---|---|---|---|---|---|---|---|---|---|---|---|---|---|---|---|\n",
       "| 31116053   | 202107     | 1          | 0          | 0          | 50         | 201        | 13073.36   | 161035.99  | 3163.52    | ...        | 10         |      0.00  |  -82110.00 |  0.00      | 6060       | 121585.39  | 75         | 0          | 77617.41   | CONTINUA   |\n",
       "| 31116803   | 202107     | 1          | 0          | 0          | 59         | 326        |  2640.48   |  56751.51  | 5232.22    | ...        |  3         |      0.00  |  -85347.94 | 17.59      | 4211       |  21596.40  |  7         | 0          |  4938.33   | CONTINUA   |\n",
       "| 31117730   | 202107     | 1          | 0          | 0          | 68         | 272        |  1343.51   |  20201.31  |  582.94    | ...        | 24         |   4692.00  |   -4692.00 |  0.00      | 7951       |   1529.02  |  2         | 0          |  1407.60   | CONTINUA   |\n",
       "| 31117908   | 202107     | 1          | 0          | 0          | 80         | 326        |  5523.19   |  55827.28  | 2712.26    | ...        |  3         |      0.00  |  -26420.00 |  0.00      | 7702       |  12815.99  |  8         | 0          |   856.29   | CONTINUA   |\n",
       "| 31117977   | 202107     | 1          | 0          | 0          | 60         | 261        |  4819.35   |  37386.40  | 1878.40    | ...        | 24         | 174063.72  | -160642.13 | 12.89      | 7949       | 157186.12  | 27         | 0          |  9548.22   | CONTINUA   |\n",
       "| 31120119   | 202107     | 1          | 0          | 0          | 71         | 379        |  1374.50   |  55964.94  | 1561.94    | ...        | 10         |      0.00  |  -10424.07 |  0.00      | 8508       |   9831.19  |  2         | 0          |   656.88   | CONTINUA   |\n",
       "| 31121017   | 202107     | 1          | 0          | 0          | 67         | 326        |  2579.35   |  18260.09  | 1958.62    | ...        |  3         |      0.00  |   -4048.02 |  0.00      | 8739       |   3988.20  |  3         | 0          |   211.14   | CONTINUA   |\n",
       "| 31121264   | 202107     | 1          | 0          | 0          | 46         | 311        | -1451.10   |  -5036.02  | 2348.34    | ...        | 10         |  30480.40  | -140760.00 |  0.00      | 8480       |  62938.18  | 49         | 0          | 14193.30   | CONTINUA   |\n",
       "| 31121718   | 202107     | 1          | 0          | 0          | 66         | 326        | 37560.90   | 478240.90  | 2827.01    | ...        | 10         |   3873.57  |   -3075.19 |  0.00      | 8416       |   3761.81  |  1         | 0          |   258.06   | CONTINUA   |\n",
       "| 31122951   | 202107     | 1          | 0          | 0          | 59         | 270        |  4119.31   |  60639.40  | 1959.26    | ...        |  3         |      0.00  |  -78615.19 |  0.00      | 4629       |  92695.38  | 29         | 0          |  9876.66   | CONTINUA   |\n",
       "\n"
      ],
      "text/plain": [
       "   numero_de_cliente foto_mes active_quarter cliente_vip internet cliente_edad\n",
       "1  31116053          202107   1              0           0        50          \n",
       "2  31116803          202107   1              0           0        59          \n",
       "3  31117730          202107   1              0           0        68          \n",
       "4  31117908          202107   1              0           0        80          \n",
       "5  31117977          202107   1              0           0        60          \n",
       "6  31120119          202107   1              0           0        71          \n",
       "7  31121017          202107   1              0           0        67          \n",
       "8  31121264          202107   1              0           0        46          \n",
       "9  31121718          202107   1              0           0        66          \n",
       "10 31122951          202107   1              0           0        59          \n",
       "   cliente_antiguedad mrentabilidad mrentabilidad_annual mcomisiones ...\n",
       "1  201                13073.36      161035.99            3163.52     ...\n",
       "2  326                 2640.48       56751.51            5232.22     ...\n",
       "3  272                 1343.51       20201.31             582.94     ...\n",
       "4  326                 5523.19       55827.28            2712.26     ...\n",
       "5  261                 4819.35       37386.40            1878.40     ...\n",
       "6  379                 1374.50       55964.94            1561.94     ...\n",
       "7  326                 2579.35       18260.09            1958.62     ...\n",
       "8  311                -1451.10       -5036.02            2348.34     ...\n",
       "9  326                37560.90      478240.90            2827.01     ...\n",
       "10 270                 4119.31       60639.40            1959.26     ...\n",
       "   Visa_fultimo_cierre Visa_mpagado Visa_mpagospesos Visa_mpagosdolares\n",
       "1  10                       0.00     -82110.00        0.00             \n",
       "2   3                       0.00     -85347.94       17.59             \n",
       "3  24                    4692.00      -4692.00        0.00             \n",
       "4   3                       0.00     -26420.00        0.00             \n",
       "5  24                  174063.72    -160642.13       12.89             \n",
       "6  10                       0.00     -10424.07        0.00             \n",
       "7   3                       0.00      -4048.02        0.00             \n",
       "8  10                   30480.40    -140760.00        0.00             \n",
       "9  10                    3873.57      -3075.19        0.00             \n",
       "10  3                       0.00     -78615.19        0.00             \n",
       "   Visa_fechaalta Visa_mconsumototal Visa_cconsumos Visa_cadelantosefectivo\n",
       "1  6060           121585.39          75             0                      \n",
       "2  4211            21596.40           7             0                      \n",
       "3  7951             1529.02           2             0                      \n",
       "4  7702            12815.99           8             0                      \n",
       "5  7949           157186.12          27             0                      \n",
       "6  8508             9831.19           2             0                      \n",
       "7  8739             3988.20           3             0                      \n",
       "8  8480            62938.18          49             0                      \n",
       "9  8416             3761.81           1             0                      \n",
       "10 4629            92695.38          29             0                      \n",
       "   Visa_mpagominimo clase_ternaria\n",
       "1  77617.41         CONTINUA      \n",
       "2   4938.33         CONTINUA      \n",
       "3   1407.60         CONTINUA      \n",
       "4    856.29         CONTINUA      \n",
       "5   9548.22         CONTINUA      \n",
       "6    656.88         CONTINUA      \n",
       "7    211.14         CONTINUA      \n",
       "8  14193.30         CONTINUA      \n",
       "9    258.06         CONTINUA      \n",
       "10  9876.66         CONTINUA      "
      ]
     },
     "metadata": {},
     "output_type": "display_data"
    },
    {
     "ename": "",
     "evalue": "",
     "output_type": "error",
     "traceback": [
      "\u001b[1;31mThe Kernel crashed while executing code in the the current cell or a previous cell. Please review the code in the cell(s) to identify a possible cause of the failure. Click <a href='https://aka.ms/vscodeJupyterKernelCrash'>here</a> for more info. View Jupyter <a href='command:jupyter.viewOutput'>log</a> for further details."
     ]
    }
   ],
   "source": [
    "#dataset.head(10)\n",
    "head(dataset,10)"
   ]
  },
  {
   "cell_type": "code",
   "execution_count": null,
   "metadata": {
    "vscode": {
     "languageId": "r"
    }
   },
   "outputs": [
    {
     "ename": "",
     "evalue": "",
     "output_type": "error",
     "traceback": [
      "\u001b[1;31mCannot execute code, session has been disposed. Please try restarting the Kernel."
     ]
    },
    {
     "ename": "",
     "evalue": "",
     "output_type": "error",
     "traceback": [
      "\u001b[1;31mThe Kernel crashed while executing code in the the current cell or a previous cell. Please review the code in the cell(s) to identify a possible cause of the failure. Click <a href='https://aka.ms/vscodeJupyterKernelCrash'>here</a> for more info. View Jupyter <a href='command:jupyter.viewOutput'>log</a> for further details."
     ]
    }
   ],
   "source": [
    "for (vmax_depth in c(4, 6, 8, 10)) {\n",
    "  for (vmin_split in c(1000, 800, 600, 400, 200, 100)) {\n",
    "    for (cp in c(-0.3, -0.5, -0.7)) {\n",
    "      for (minbucket in c(5, 3, 1,300,500)) {\n",
    "        # notar como se agrega\n",
    "        \n",
    "        # vminsplit  minima cantidad de registros en un nodo para hacer el split\n",
    "        param_basicos <- list(\n",
    "          \"cp\" = cp, # complejidad minima\n",
    "          \"maxdepth\" = vmax_depth,\n",
    "          \"minsplit\" = vmin_split,\n",
    "          \"minbucket\" = minbucket # minima cantidad de registros en una hoja\n",
    "        )\n",
    "        \n",
    "        # profundidad máxima del arbol\n",
    "        # Un solo llamado, con la semilla 17\n",
    "        ganancia_promedio <- ArbolesMontecarlo(semillas, param_basicos)\n",
    "        \n",
    "        # escribo los resultados al archivo de salida\n",
    "        cat(\n",
    "          file = archivo_salida,\n",
    "          append = TRUE,\n",
    "          sep = \"\",\n",
    "          cp, \"\\t\",\n",
    "          vmax_depth, \"\\t\",\n",
    "          vmin_split, \"\\t\",\n",
    "          minbucket, \"\\t\",\n",
    "          ganancia_promedio, \"\\n\"\n",
    "        )\n",
    "      }\n",
    "    }\n",
    "  }\n",
    "}\n"
   ]
  }
 ],
 "metadata": {
  "kernelspec": {
   "display_name": "R",
   "language": "R",
   "name": "ir"
  },
  "language_info": {
   "codemirror_mode": "r",
   "file_extension": ".r",
   "mimetype": "text/x-r-source",
   "name": "R",
   "pygments_lexer": "r",
   "version": "3.6.1"
  },
  "orig_nbformat": 4
 },
 "nbformat": 4,
 "nbformat_minor": 2
}
